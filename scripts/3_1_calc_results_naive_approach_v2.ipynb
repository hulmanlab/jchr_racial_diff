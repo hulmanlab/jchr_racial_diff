{
 "cells": [
  {
   "cell_type": "code",
   "execution_count": 2,
   "metadata": {},
   "outputs": [],
   "source": [
    "import pandas as pd\n",
    "import numpy as np\n",
    "from decimal import Decimal, ROUND_HALF_UP\n",
    "\n",
    "# Load the DataFrame\n",
    "df = pd.read_csv(r'../results/processed_data/2_lmem_results/3_1_calculated_results_v6_race_lmem_v2.csv')\n",
    "df.drop(columns=['Unnamed: 0', 'ptid_test'], axis=1, inplace=True)\n",
    "\n",
    "# Filter the DataFrame for ratio = 10 and then by Race and Gender\n",
    "# df_ratio_10_black = df[(df['ratio'] == 10) & (df['Race'] == 'black') & (df['Gender'] == \"M\")& (df['AgeGroup']==1)]\n",
    "# df_ratio_10_white = df[(df['ratio'] == 10) & (df['Race'] == 'white') & (df['Gender'] == \"M\")& (df['AgeGroup']==1)]\n",
    "\n",
    "df_ratio_10_black = df[(df['ratio'] == 10) & (df['Race'] == 'black')]\n",
    "df_ratio_10_white = df[(df['ratio'] == 10) & (df['Race'] == 'white')]\n",
    "\n",
    "\n",
    "\n",
    "\n",
    "\n",
    "\n"
   ]
  },
  {
   "cell_type": "code",
   "execution_count": 3,
   "metadata": {},
   "outputs": [
    {
     "name": "stdout",
     "output_type": "stream",
     "text": [
      "white\n",
      "2.45 [ 2.32 - 2.57 ]\n",
      "black\n",
      "2.41 [ 2.29 - 2.53 ]\n"
     ]
    }
   ],
   "source": [
    "# Define function to calculate mean and 95% CI\n",
    "def calculate_mean_and_95ci(df, column):\n",
    "    # Convert the column to Decimal for precise rounding\n",
    "    decimal_values = df[column].apply(lambda x: Decimal(str(x)))\n",
    "    \n",
    "    mean = sum(decimal_values) / Decimal(len(decimal_values))\n",
    "    std = (sum((x - mean) ** 2 for x in decimal_values) / Decimal(len(decimal_values) - 1)).sqrt()\n",
    "    n = Decimal(len(decimal_values))\n",
    "    \n",
    "    standard_error = std / n.sqrt()\n",
    "    ci_95 = Decimal('1.96') * standard_error\n",
    "    \n",
    "    lower_bound = mean - ci_95\n",
    "    upper_bound = mean + ci_95\n",
    "    \n",
    "    # Round the values\n",
    "    rounded_mean = mean.quantize(Decimal('0.01'), rounding=ROUND_HALF_UP)\n",
    "    rounded_lower = lower_bound.quantize(Decimal('0.01'), rounding=ROUND_HALF_UP)\n",
    "    rounded_upper = upper_bound.quantize(Decimal('0.01'), rounding=ROUND_HALF_UP)\n",
    "    \n",
    "    print(f\"{rounded_mean} [ {rounded_lower} - {rounded_upper} ]\")\n",
    "    \n",
    "    return {\n",
    "        'Mean': rounded_mean,\n",
    "        '95% CI Lower Bound': rounded_lower,\n",
    "        '95% CI Upper Bound': rounded_upper\n",
    "    }\n",
    "\n",
    "print('white')\n",
    "# Results for White race\n",
    "results_white = calculate_mean_and_95ci(df_ratio_10_white, 'rmse_naive')\n",
    "\n",
    "print('black')\n",
    "# Results for Black race\n",
    "results_black = calculate_mean_and_95ci(df_ratio_10_black, 'rmse_naive')\n",
    "\n",
    "\n",
    "\n",
    "\n",
    "\n",
    "\n"
   ]
  },
  {
   "cell_type": "code",
   "execution_count": 4,
   "metadata": {},
   "outputs": [
    {
     "name": "stdout",
     "output_type": "stream",
     "text": [
      "White CI from describe(): 2.445957494358572 [ 2.320706511978497 - 2.5712084767386467 ]\n"
     ]
    }
   ],
   "source": [
    "import math\n",
    "\n",
    "# From describe() output\n",
    "mean_white = df_ratio_10_white['rmse_naive'].mean()\n",
    "std_white = df_ratio_10_white['rmse_naive'].std()\n",
    "n_white = len(df_ratio_10_white)\n",
    "\n",
    "se_white = std_white / math.sqrt(n_white)\n",
    "ci_95_white = 1.96 * se_white\n",
    "\n",
    "lower_bound_white = mean_white - ci_95_white\n",
    "upper_bound_white = mean_white + ci_95_white\n",
    "\n",
    "print(f\"White CI from describe(): {mean_white} [ {lower_bound_white} - {upper_bound_white} ]\")\n"
   ]
  },
  {
   "cell_type": "code",
   "execution_count": 5,
   "metadata": {},
   "outputs": [
    {
     "name": "stdout",
     "output_type": "stream",
     "text": [
      "Black CI from describe(): 2.6342507657246292 [ 2.5089997833445543 - 2.759501748104704 ]\n"
     ]
    }
   ],
   "source": [
    "\n",
    "import math\n",
    "\n",
    "# From describe() output\n",
    "mean_black = df_ratio_10_black['rmse_single'].mean()\n",
    "std_black = df_ratio_10_black['rmse_single'].std()\n",
    "n_black = len(df_ratio_10_black)\n",
    "\n",
    "se_black = std_black / math.sqrt(n_black)\n",
    "ci_95_black = 1.96 * se_white\n",
    "\n",
    "lower_bound_black = mean_black - ci_95_black\n",
    "upper_bound_black = mean_black + ci_95_black\n",
    "\n",
    "print(f\"Black CI from describe(): {mean_black} [ {lower_bound_black} - {upper_bound_black} ]\")"
   ]
  }
 ],
 "metadata": {
  "kernelspec": {
   "display_name": "env_study1_v3",
   "language": "python",
   "name": "python3"
  },
  "language_info": {
   "codemirror_mode": {
    "name": "ipython",
    "version": 3
   },
   "file_extension": ".py",
   "mimetype": "text/x-python",
   "name": "python",
   "nbconvert_exporter": "python",
   "pygments_lexer": "ipython3",
   "version": "3.11.4"
  }
 },
 "nbformat": 4,
 "nbformat_minor": 2
}
