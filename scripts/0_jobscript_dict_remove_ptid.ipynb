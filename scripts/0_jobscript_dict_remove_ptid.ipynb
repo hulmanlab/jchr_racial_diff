{
 "cells": [
  {
   "cell_type": "code",
   "execution_count": 1,
   "metadata": {},
   "outputs": [],
   "source": [
    "import os\n",
    "\n",
    "# Path to the directory\n",
    "# folder_path = \"/Users/au605715/Documents/GitHub/jchr_racial_diff/Data/2_1_1_predicted_results_rnn_wb/2_1_1_predicted_results_rnn_wb_v3\"\n",
    "folder_path = '/home/hbt/jchr_data/jchr_racial_diff/results/processed_data/2_1_1_predicted_results_rnn_wb/2_1_1_predicted_results_rnn_wb_v4'\n",
    "# folder_path = '/home/hbt/jchr_data/jchr_racial_diff/results/processed_data/2_1_2_predicted_results_rnn_mf'\n",
    "# List all entries in the directory\n",
    "all_entries = os.listdir(folder_path)\n",
    "\n",
    "# Filter out directories, keep only files\n",
    "files = [f for f in all_entries if os.path.isfile(os.path.join(folder_path, f)) and f.endswith('.pkl') and f.startswith('patient')]\n",
    "\n",
    "import pickle\n",
    "# file_path = \"/Users/au605715/Documents/GitHub/jchr_racial_diff/Data/processed_data/1_3_1_data_split_wb_v3.pkl\"\n",
    "file_path = \"/home/hbt/jchr_data/jchr_racial_diff/results/preprocessed_data/1_3_1_data_split_wb_v3.pkl\"\n",
    "# file_path = '/home/hbt/jchr_data/jchr_racial_diff/results/preprocessed_data/1_3_2_data_split_mf_v3.pkl'\n",
    "# Read from file\n",
    "with open(file_path, 'rb') as file:\n",
    "    dictionary = pickle.load(file)\n",
    "    \n",
    "    \n",
    "my_dict = dictionary\n",
    "\n",
    "# Function to extract PtID and ratio from the filename\n",
    "def extract_info(filename):\n",
    "    base_name = os.path.splitext(filename)[0]  # Remove the extension\n",
    "    parts = base_name.split('_')\n",
    "    PtID = parts[0].replace('patient', '')  # Extract PtID\n",
    "    ratio = parts[1].replace('ratio', '')  # Extract ratio\n",
    "    return int(PtID), int(ratio)\n",
    "\n",
    "# Iterate over the file list and remove corresponding entries from the dictionary\n",
    "for i_file in files:\n",
    "    key = extract_info(i_file)\n",
    "    if key in my_dict:\n",
    "        del my_dict[key]\n"
   ]
  },
  {
   "cell_type": "code",
   "execution_count": 5,
   "metadata": {},
   "outputs": [],
   "source": [
    "# file_path = \"/home/hbt/jchr_data/jchr_racial_diff/results/processed_data/2_1_2_predicted_results_rnn_mf/run2.pkl\"\n",
    "\n",
    "\n",
    "# with open(file_path, 'wb') as file:\n",
    "#     # Serialize and save the list to the file\n",
    "#     pickle.dump(my_dict, file)\n",
    "\n"
   ]
  },
  {
   "cell_type": "code",
   "execution_count": null,
   "metadata": {},
   "outputs": [],
   "source": []
  },
  {
   "cell_type": "code",
   "execution_count": null,
   "metadata": {},
   "outputs": [],
   "source": []
  }
 ],
 "metadata": {
  "kernelspec": {
   "display_name": "env_study1",
   "language": "python",
   "name": "python3"
  },
  "language_info": {
   "codemirror_mode": {
    "name": "ipython",
    "version": 3
   },
   "file_extension": ".py",
   "mimetype": "text/x-python",
   "name": "python",
   "nbconvert_exporter": "python",
   "pygments_lexer": "ipython3",
   "version": "3.11.5"
  }
 },
 "nbformat": 4,
 "nbformat_minor": 2
}
