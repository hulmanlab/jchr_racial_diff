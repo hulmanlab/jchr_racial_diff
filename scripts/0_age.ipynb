{
 "cells": [
  {
   "cell_type": "markdown",
   "metadata": {},
   "source": [
    "# Load Data"
   ]
  },
  {
   "cell_type": "code",
   "execution_count": 1,
   "metadata": {},
   "outputs": [],
   "source": [
    "\n",
    "import pandas as pd\n",
    "\n",
    "# df_baseline = pd.read_csv(r'../data/FBaseline.txt', sep='|')                         # no\n",
    "# df_adv_events = pd.read_csv(r'../data/FAdvEvent.txt', sep='|')                       # no\n",
    "df_roster = pd.read_csv(r'../data/FPtRoster.txt', sep='|')                           # no\n",
    "# df_roster= df_roster[df_roster['FPtStatus'] != 'Dropped']\n",
    "# df_lab_data = pd.read_csv(r'../data/FLabData.txt', sep='|')                          # no\n",
    "df_medical_conditions = pd.read_csv(r'../data/FMedicalConditions.txt', sep='|')\n",
    "df_medications = pd.read_csv(r'../data/FMedications.txt', sep='|')\n",
    "\n",
    "# df_bgm = pd.read_csv(r'../data/FDataBGM.txt', sep='|')                              # no\n",
    "# df_cgm = pd.read_csv(r'../data/FDataCGM.txt', sep='|')                              # no\n",
    "# df_acc = pd.read_csv(r'../data/FDataAccel.txt', sep='|')                            # no\n",
    "# df_acc_info = pd.read_csv(r'../data/FDataAccelSubjectInfo.txt', sep='|')            # yes for 148 and not 205\n",
    "# df_daily_log = pd.read_csv(r'../data/FDailyLog.txt', sep='|')                       # no\n",
    "# df_insulin = pd.read_csv(r'../data/FInsulin.txt', sep='|')                          # no\n",
    "\n",
    "df_visit_final = pd.read_csv(r'../data/FFinalVisit.txt', sep=',')\n",
    "# df_visit_follow_up = pd.read_csv(r'../data/FFollowUpVisit.txt', sep=',')            # no\n",
    "# df_visit_final_screening = pd.read_csv(r'../data/FScreeningFinalVisit.txt', sep='|')# no\n",
    "# df_visit_info = pd.read_csv(r'../data/FVisitInfo.txt', sep='|')                     # no\n",
    "\n",
    "\n",
    "# df_final_status = pd.read_csv(r'../data/FPtFinalStatus.txt', sep='|')               # no\n",
    "df_sample_results = pd.read_csv(r'../data/FSampleResults.txt', sep='|')\n",
    "\n",
    "\n",
    "\n"
   ]
  },
  {
   "cell_type": "markdown",
   "metadata": {},
   "source": [
    "# Get All names of All Volumns for All DataFrames"
   ]
  },
  {
   "cell_type": "code",
   "execution_count": 5,
   "metadata": {},
   "outputs": [],
   "source": [
    "# columns_baseline = df_baseline.columns.tolist()\n",
    "# columns_adv_events = df_adv_events.columns.tolist()\n",
    "# columns_roster = df_roster.columns.tolist()\n",
    "# columns_lab_data = df_lab_data.columns.tolist()\n",
    "columns_medications = df_medications.columns.tolist()\n",
    "columns_medical_conditions = df_medical_conditions.columns.tolist()\n",
    "\n",
    "# columns_bgm = df_bgm.columns.tolist()\n",
    "# columns_cgm = df_cgm.columns.tolist()\n",
    "# columns_acc = df_acc.columns.tolist()\n",
    "# columns_acc_info = df_acc_info.columns.tolist()\n",
    "# columns_insulin = df_insulin.columns.tolist()\n",
    "# columns_daily_log = df_daily_log.columns.tolist()\n",
    "\n",
    "\n",
    "# columns_visit_final_screening = df_visit_final_screening.columns.tolist()\n",
    "columns_visit_final = df_visit_final.columns.tolist()\n",
    "# columns_visit_follow_up = df_visit_follow_up.columns.tolist()\n",
    "# columns_visit_info = df_visit_info.columns.tolist()\n",
    "\n",
    "columns_sample_results = df_sample_results.columns.tolist()\n",
    "# columns_final_status = df_final_status.columns.tolist()\n",
    "\n",
    "\n"
   ]
  },
  {
   "cell_type": "markdown",
   "metadata": {},
   "source": [
    "# Removes all the dropped patients"
   ]
  },
  {
   "cell_type": "code",
   "execution_count": 6,
   "metadata": {},
   "outputs": [
    {
     "ename": "KeyError",
     "evalue": "'df_baseline'",
     "output_type": "error",
     "traceback": [
      "\u001b[0;31m---------------------------------------------------------------------------\u001b[0m",
      "\u001b[0;31mKeyError\u001b[0m                                  Traceback (most recent call last)",
      "Cell \u001b[0;32mIn[6], line 11\u001b[0m\n\u001b[1;32m      2\u001b[0m dataframe_names_to_filter \u001b[38;5;241m=\u001b[39m [\n\u001b[1;32m      3\u001b[0m     \u001b[38;5;124m'\u001b[39m\u001b[38;5;124mdf_baseline\u001b[39m\u001b[38;5;124m'\u001b[39m, \u001b[38;5;124m'\u001b[39m\u001b[38;5;124mdf_adv_events\u001b[39m\u001b[38;5;124m'\u001b[39m, \u001b[38;5;124m'\u001b[39m\u001b[38;5;124mdf_lab_data\u001b[39m\u001b[38;5;124m'\u001b[39m, \n\u001b[1;32m      4\u001b[0m     \u001b[38;5;124m'\u001b[39m\u001b[38;5;124mdf_medications\u001b[39m\u001b[38;5;124m'\u001b[39m, \u001b[38;5;124m'\u001b[39m\u001b[38;5;124mdf_medical_conditions\u001b[39m\u001b[38;5;124m'\u001b[39m, \u001b[38;5;124m'\u001b[39m\u001b[38;5;124mdf_bgm\u001b[39m\u001b[38;5;124m'\u001b[39m, \u001b[38;5;124m'\u001b[39m\u001b[38;5;124mdf_cgm\u001b[39m\u001b[38;5;124m'\u001b[39m, \n\u001b[0;32m   (...)\u001b[0m\n\u001b[1;32m      7\u001b[0m     \u001b[38;5;124m'\u001b[39m\u001b[38;5;124mdf_visit_info\u001b[39m\u001b[38;5;124m'\u001b[39m, \u001b[38;5;124m'\u001b[39m\u001b[38;5;124mdf_sample_results\u001b[39m\u001b[38;5;124m'\u001b[39m, \u001b[38;5;124m'\u001b[39m\u001b[38;5;124mdf_final_status\u001b[39m\u001b[38;5;124m'\u001b[39m\n\u001b[1;32m      8\u001b[0m ]\n\u001b[1;32m     10\u001b[0m \u001b[38;5;28;01mfor\u001b[39;00m name \u001b[38;5;129;01min\u001b[39;00m dataframe_names_to_filter:\n\u001b[0;32m---> 11\u001b[0m     \u001b[38;5;28;01mif\u001b[39;00m \u001b[38;5;124m'\u001b[39m\u001b[38;5;124mPtID\u001b[39m\u001b[38;5;124m'\u001b[39m \u001b[38;5;129;01min\u001b[39;00m \u001b[38;5;28;43mglobals\u001b[39;49m\u001b[43m(\u001b[49m\u001b[43m)\u001b[49m\u001b[43m[\u001b[49m\u001b[43mname\u001b[49m\u001b[43m]\u001b[49m\u001b[38;5;241m.\u001b[39mcolumns:\n\u001b[1;32m     12\u001b[0m         \u001b[38;5;28mglobals\u001b[39m()[name] \u001b[38;5;241m=\u001b[39m \u001b[38;5;28mglobals\u001b[39m()[name][\u001b[38;5;28mglobals\u001b[39m()[name][\u001b[38;5;124m'\u001b[39m\u001b[38;5;124mPtID\u001b[39m\u001b[38;5;124m'\u001b[39m]\u001b[38;5;241m.\u001b[39misin(df_roster[\u001b[38;5;124m'\u001b[39m\u001b[38;5;124mPtID\u001b[39m\u001b[38;5;124m'\u001b[39m])]\n",
      "\u001b[0;31mKeyError\u001b[0m: 'df_baseline'"
     ]
    }
   ],
   "source": [
    "\n",
    "\n",
    "df_roster= df_roster[df_roster['FPtStatus'] != 'Dropped']\n",
    "dataframe_names_to_filter = [\n",
    "    'df_baseline', 'df_adv_events', 'df_lab_data', \n",
    "    'df_medications', 'df_medical_conditions', 'df_bgm', 'df_cgm', \n",
    "    'df_acc', 'df_acc_info', 'df_insulin', 'df_daily_log', \n",
    "    'df_visit_final_screening', 'df_visit_final', 'df_visit_follow_up', \n",
    "    'df_visit_info', 'df_sample_results', 'df_final_status'\n",
    "]\n",
    "\n",
    "for name in dataframe_names_to_filter:\n",
    "    if 'PtID' in globals()[name].columns:\n",
    "        globals()[name] = globals()[name][globals()[name]['PtID'].isin(df_roster['PtID'])]\n",
    "        "
   ]
  },
  {
   "cell_type": "code",
   "execution_count": null,
   "metadata": {},
   "outputs": [],
   "source": [
    "# List of DataFrame variable names as strings\n",
    "dataframe_names = [\n",
    "    'df_baseline', 'df_adv_events', 'df_roster', 'df_lab_data', \n",
    "    'df_medications', 'df_medical_conditions', 'df_bgm', 'df_cgm', \n",
    "    'df_acc', 'df_acc_info', 'df_insulin', 'df_daily_log', \n",
    "    'df_visit_final_screening', 'df_visit_final', 'df_visit_follow_up', \n",
    "    'df_visit_info', 'df_sample_results', 'df_final_status'\n",
    "]\n",
    "\n",
    "# Loop through each DataFrame name, get its columns, and assign to a new variable\n",
    "for name in dataframe_names:\n",
    "    columns_name = f\"columns_{name[3:]}\"  # Create the variable name for columns\n",
    "    globals()[columns_name] = globals()[name].columns.tolist()\n",
    "    \n",
    "# Now, variables like columns_baseline, columns_adv_events, etc., are defined\n",
    "# Loop through each DataFrame name, extract unique 'PtID', and assign to a new variable\n",
    "for name2 in dataframe_names:\n",
    "    if 'PtID' in globals()[name2].columns:  # Check if 'PtID' exists in DataFrame\n",
    "        unique_name = f\"unique_{name2}\"  # Create the variable name for unique 'PtID' values\n",
    "        globals()[unique_name] = globals()[name2]['PtID'].unique()\n",
    "\n"
   ]
  }
 ],
 "metadata": {
  "kernelspec": {
   "display_name": "env_study1_v3",
   "language": "python",
   "name": "python3"
  },
  "language_info": {
   "codemirror_mode": {
    "name": "ipython",
    "version": 3
   },
   "file_extension": ".py",
   "mimetype": "text/x-python",
   "name": "python",
   "nbconvert_exporter": "python",
   "pygments_lexer": "ipython3",
   "version": "3.11.4"
  }
 },
 "nbformat": 4,
 "nbformat_minor": 2
}
