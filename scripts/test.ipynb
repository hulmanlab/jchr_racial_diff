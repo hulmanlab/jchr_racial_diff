{
 "cells": [
  {
   "cell_type": "code",
   "execution_count": 2,
   "metadata": {},
   "outputs": [],
   "source": [
    "# Import data\n",
    "import pandas as pd\n",
    "\n",
    "df1 = pd.read_csv(r'../results/preprocessed_data/2_0_hyperparametertuning_v1.csv',sep=',')\n",
    "df2 = pd.read_csv(r'../results/preprocessed_data/2_0_hyperparametertuning_v2.csv',sep=',')\n",
    "df3 = pd.read_csv(r'../results/preprocessed_data/2_0_hyperparametertuning_v3.csv',sep=',')\n",
    "\n",
    "df2_1 = pd.read_csv(r'../results/preprocessed_data/2_0_hyperparametertuning_v2_1.csv',sep=',')\n",
    "df2_2 = pd.read_csv(r'../results/preprocessed_data/2_0_hyperparametertuning_v2_2.csv',sep=',')\n",
    "df2_3 = pd.read_csv(r'../results/preprocessed_data/2_0_hyperparametertuning_v2_3.csv',sep=',')\n",
    "df2_4 = pd.read_csv(r'../results/preprocessed_data/2_0_hyperparametertuning_v2_4.csv',sep=',')\n",
    "\n",
    "\n",
    "\n",
    "df = pd.concat([df1, df2, df3, df2_1, df2_2, df2_3, df2_4], axis=0)\n",
    "df.drop_duplicates(inplace=True)\n",
    "\n",
    "\n"
   ]
  },
  {
   "cell_type": "code",
   "execution_count": 4,
   "metadata": {},
   "outputs": [],
   "source": [
    "\n",
    "df.to_csv(r'/home/hbt/jchr_data/jchr_racial_diff/results/preprocessed_data/2_2_hyperparametertuning_all.csv', index=False)\n"
   ]
  }
 ],
 "metadata": {
  "kernelspec": {
   "display_name": "env_study1",
   "language": "python",
   "name": "python3"
  },
  "language_info": {
   "codemirror_mode": {
    "name": "ipython",
    "version": 3
   },
   "file_extension": ".py",
   "mimetype": "text/x-python",
   "name": "python",
   "nbconvert_exporter": "python",
   "pygments_lexer": "ipython3",
   "version": "3.11.5"
  }
 },
 "nbformat": 4,
 "nbformat_minor": 2
}
