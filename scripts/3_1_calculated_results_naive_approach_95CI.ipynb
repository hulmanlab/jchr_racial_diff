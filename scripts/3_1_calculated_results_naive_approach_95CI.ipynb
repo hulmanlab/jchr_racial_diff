
#!/usr/bin/env python3
# -*- coding: utf-8 -*-
"""
Created on Tue Aug 13 10:31:52 2024

@author: au605715
"""

import pandas as pd
import numpy as np
from decimal import Decimal, ROUND_HALF_UP

# Load the DataFrame
df = pd.read_csv(r'/Users/au605715/Documents/GitHub/study1/r_studio/3_1_calculated_results_v6_race_lmem_v2.csv')
df.drop(columns=['Unnamed: 0', 'ptid_test'], axis=1, inplace=True)

# Filter the DataFrame for ratio = 10 and then by Race and Gender
df_ratio_10_black = df[(df['ratio'] == 10) & (df['Race'] == 'black') & (df['Gender'] == "M")& (df['AgeGroup']==1)]
df_ratio_10_white = df[(df['ratio'] == 10) & (df['Race'] == 'white') & (df['Gender'] == "M")& (df['AgeGroup']==1)]

# Drop unnecessary columns
# df_ratio_10_black.drop(columns=['Race', 'Gender','ptid_group'], axis=1, inplace=True)
# df_ratio_10_white.drop(columns=['Race', 'Gender', 'ptid_group'], axis=1, inplace=True)

# def calculate_mean_and_95ci2(df):
#     means = df.mean()
#     stds = df.std()
#     n = len(df)
    
#     standard_errors = stds / np.sqrt(n)
#     ci_95 = 1.96 * standard_errors
    
#     lower_bounds = means - ci_95
#     upper_bounds = means + ci_95
    
#     results = pd.DataFrame({
#         'Mean': means,
#         '95% CI Lower Bound': lower_bounds,
#         '95% CI Upper Bound': upper_bounds
#     })
    
#     return results


# results_grouped = calculate_mean_and_95ci2( df_ratio_10_white)

# Define function to calculate mean and 95% CI
def calculate_mean_and_95ci(df, column):
    # Convert the column to Decimal for precise rounding
    decimal_values = df[column].apply(lambda x: Decimal(str(x)))
    
    mean = sum(decimal_values) / Decimal(len(decimal_values))
    std = (sum((x - mean) ** 2 for x in decimal_values) / Decimal(len(decimal_values) - 1)).sqrt()
    n = Decimal(len(decimal_values))
    
    standard_error = std / n.sqrt()
    ci_95 = Decimal('1.96') * standard_error
    
    lower_bound = mean - ci_95
    upper_bound = mean + ci_95
    
    # Round the values
    rounded_mean = mean.quantize(Decimal('0.01'), rounding=ROUND_HALF_UP)
    rounded_lower = lower_bound.quantize(Decimal('0.01'), rounding=ROUND_HALF_UP)
    rounded_upper = upper_bound.quantize(Decimal('0.01'), rounding=ROUND_HALF_UP)
    
    print(f"{rounded_mean} [ {rounded_lower} - {rounded_upper} ]")
    
    return {
        'Mean': rounded_mean,
        '95% CI Lower Bound': rounded_lower,
        '95% CI Upper Bound': rounded_upper
    }

print('black')
# Results for Black race
results_black = calculate_mean_and_95ci(df_ratio_10_black, 'rmse_naive')

print('white')
# Results for White race
results_white = calculate_mean_and_95ci(df_ratio_10_white, 'rmse_naive')

results_black, results_white



