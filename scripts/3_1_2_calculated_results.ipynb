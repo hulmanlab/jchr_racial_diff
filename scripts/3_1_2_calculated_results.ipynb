{
 "cells": [
  {
   "cell_type": "code",
   "execution_count": 1,
   "metadata": {},
   "outputs": [],
   "source": [
    "## Load data\n",
    "import glob\n",
    "import pandas as pd\n",
    "import pickle\n",
    "\n",
    "df = pd.read_csv(r'/home/hbt/jchr_data/jchr_racial_diff/results/preprocessed_data/1_2_1_model_input_ws60min_ph60min.csv')\n",
    "\n",
    "\n",
    "\n",
    "\n",
    "# Define the path to your folder\n",
    "folder_path = '/home/hbt/jchr_data/jchr_racial_diff/results/processed_data/2_1_1_predicted_results_rnn_wb_mf_v5'\n",
    "\n",
    "# Pattern to match the files\n",
    "file_pattern = f'{folder_path}/patient*_ratio*.pkl'\n",
    "\n",
    "# Dictionary to store the data\n",
    "dictionary = {}\n",
    "\n",
    "# Iterate over files matched by glob\n",
    "for file_path in glob.glob(file_pattern):\n",
    "    with open(file_path, 'rb') as file:\n",
    "        # Extracting N and X from the filename\n",
    "        filename = file_path.split('/')[-1]  # Adjust if necessary based on your OS\n",
    "        patient_id, ratio_id = filename.replace('.pkl', '').split('_')\n",
    "        # Extracting numeric parts from patient_id and ratio_id\n",
    "        patient_num = ''.join(filter(str.isdigit, patient_id))\n",
    "        ratio_num = ''.join(filter(str.isdigit, ratio_id))\n",
    "        \n",
    "        # Load the content of the file\n",
    "        file_data = pickle.load(file)\n",
    "\n",
    "        # Store the data\n",
    "        dictionary.update(file_data)\n",
    "\n",
    "# Now loaded_data contains all your files' data"
   ]
  },
  {
   "cell_type": "code",
   "execution_count": 6,
   "metadata": {},
   "outputs": [],
   "source": [
    "import my_utils\n",
    "iteration = 1\n",
    "dict_results = {}\n",
    "\n",
    "for (PtID, percentage), value in dictionary.items():\n",
    "\n",
    "    print('Iteration:',iteration,'PtID:',PtID,'ratio:' ,percentage)\n",
    "    iteration=iteration+1\n",
    "    \n",
    "    # My actual/true values and my baseline value\n",
    "    y_actual = value['y_actual']\n",
    "    y_last_value = value['y_last_val']\n",
    "    y_pred = value['y_pred']\n",
    "    y_pred_tl = value['y_pred_tl']\n",
    "\n",
    "    # calculating my values for each prediction base_model\n",
    "    rmse_naive = my_utils.calculate_results(y_actual, y_last_value)\n",
    "    rmse_base = my_utils.calculate_results(y_actual, y_pred) \n",
    "    rmse_tl = my_utils.calculate_results(y_actual,y_pred_tl)  \n",
    "    \n",
    "    # find number of samples\n",
    "    \n",
    "#     ptid_training_w = value['training_w']\n",
    "#     ptid_training_b = value['training_b']\n",
    "#     ptid_test = value['PtID_test']\n",
    "#     ptid_race = value['race']\n",
    "\n",
    "#     df_train_w = df[df['PtID'].isin(ptid_training_w)]\n",
    "#     df_train_b = df[df['PtID'].isin(ptid_training_b)]\n",
    "#     df_test = df[df['PtID']==ptid_test]\n",
    "    \n",
    "\n",
    "\n",
    "# #                    split dataset using one week of data to validate on the rest\n",
    "\n",
    "#     df_train_wb = pd.concat([df_train_w, df_train_b], ignore_index=True)\n",
    "#     df_train_wb.reset_index\n",
    "\n",
    "#     # split within patients, train/val\n",
    "#     xy_train, xy_val = my_utils.split_within_PtID(df_train_wb, numb_values_to_remove=-672, group_column=\"Race\", seperate_target=False) # split witin  PtID: 4values/hour * 24hour/day*7days/week = 672 values/week\n",
    "\n",
    "#    # split within patients, train/test\n",
    "#     xy_train_tl, xy_test_tl = my_utils.split_within_PtID(df_test, numb_values_to_remove=-672, seperate_target=False, group_column=\"Race\") # split witin  PtID: 4values/hour * 24hour/day*7days/week = 672 values/week\n",
    "\n",
    "#     baseline_test_tl = xy_test_tl['Value_4']\n",
    "\n",
    "#     # split train in train/val with seperate targets\n",
    "#     x_train_tl, y_train_tl, x_val_tl, y_val_tl = my_utils.split_time_series_data(xy_train_tl, test_size=0.15)\n",
    "# #                   getting lengths and saving \n",
    "    \n",
    "\n",
    "    # temp_train_n = (len(xy_train))\n",
    "    # temp_val_n =(len(xy_val))\n",
    "    # temp_train_tl_n=(len(xy_train_tl))\n",
    "    # temp_val_tl_n=(len(x_val_tl))\n",
    "    # temp_test_n=(len(xy_test_tl))\n",
    "    \n",
    "     \n",
    "    dict_results[(PtID, percentage)] = {\n",
    "        \n",
    "        \"race\": value['race'],\n",
    "        \"rmse_naive\": rmse_naive,\n",
    "        \"rmse_base\": rmse_base,\n",
    "        \"rmse_tl\": rmse_tl,\n",
    "        # \"train\": temp_train_n,\n",
    "        # \"val\": temp_val_n,\n",
    "        # \"train_tl\": temp_train_tl_n,\n",
    "        # \"val_tl\": temp_val_tl_n,\n",
    "        # \"test\": temp_test_n\n",
    "\n",
    "    }\n"
   ]
  },
  {
   "cell_type": "code",
   "execution_count": 7,
   "metadata": {},
   "outputs": [
    {
     "name": "stdout",
     "output_type": "stream",
     "text": [
      "Empty DataFrame\n",
      "Columns: [index]\n",
      "Index: []\n"
     ]
    }
   ],
   "source": [
    "import pandas as pd\n",
    "df = pd.DataFrame.from_dict(dict_results, orient='index').reset_index()\n",
    "df = df.rename(columns={'level_0': 'PtID', 'level_1': 'ratio'})\n",
    "print(df)"
   ]
  },
  {
   "cell_type": "code",
   "execution_count": 4,
   "metadata": {},
   "outputs": [],
   "source": [
    "# save dataframe\n",
    "# file_path_save = '/home/hbt/jchr_data/jchr_racial_diff/results/processed_data/2_1_1_predicted_results_rnn_wb/2_1_1_predicted_results_rnn_wb_v4/3_1_1_calculated_results_v2.csv'\n",
    "# df.to_csv(file_path_save)\n"
   ]
  },
  {
   "cell_type": "code",
   "execution_count": 5,
   "metadata": {},
   "outputs": [
    {
     "data": {
      "text/html": [
       "<div>\n",
       "<style scoped>\n",
       "    .dataframe tbody tr th:only-of-type {\n",
       "        vertical-align: middle;\n",
       "    }\n",
       "\n",
       "    .dataframe tbody tr th {\n",
       "        vertical-align: top;\n",
       "    }\n",
       "\n",
       "    .dataframe thead th {\n",
       "        text-align: right;\n",
       "    }\n",
       "</style>\n",
       "<table border=\"1\" class=\"dataframe\">\n",
       "  <thead>\n",
       "    <tr style=\"text-align: right;\">\n",
       "      <th></th>\n",
       "      <th>index</th>\n",
       "    </tr>\n",
       "  </thead>\n",
       "  <tbody>\n",
       "  </tbody>\n",
       "</table>\n",
       "</div>"
      ],
      "text/plain": [
       "Empty DataFrame\n",
       "Columns: [index]\n",
       "Index: []"
      ]
     },
     "execution_count": 5,
     "metadata": {},
     "output_type": "execute_result"
    }
   ],
   "source": [
    "df"
   ]
  }
 ],
 "metadata": {
  "kernelspec": {
   "display_name": "env_study1",
   "language": "python",
   "name": "python3"
  },
  "language_info": {
   "codemirror_mode": {
    "name": "ipython",
    "version": 3
   },
   "file_extension": ".py",
   "mimetype": "text/x-python",
   "name": "python",
   "nbconvert_exporter": "python",
   "pygments_lexer": "ipython3",
   "version": "3.11.4"
  }
 },
 "nbformat": 4,
 "nbformat_minor": 2
}
